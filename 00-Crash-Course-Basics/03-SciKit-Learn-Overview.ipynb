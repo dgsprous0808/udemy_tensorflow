{
 "cells": [
  {
   "cell_type": "markdown",
   "metadata": {},
   "source": [
    "# SciKit Learn Preprocessing Overview"
   ]
  },
  {
   "cell_type": "code",
   "execution_count": 20,
   "metadata": {
    "collapsed": true
   },
   "outputs": [],
   "source": [
    "import numpy as np"
   ]
  },
  {
   "cell_type": "code",
   "execution_count": 21,
   "metadata": {
    "collapsed": true
   },
   "outputs": [],
   "source": [
    "from sklearn.preprocessing import MinMaxScaler"
   ]
  },
  {
   "cell_type": "code",
   "execution_count": 4,
   "metadata": {
    "collapsed": true
   },
   "outputs": [],
   "source": [
    "data = np.random.randint(0,100,(10,2))"
   ]
  },
  {
   "cell_type": "code",
   "execution_count": 5,
   "metadata": {},
   "outputs": [
    {
     "data": {
      "text/plain": [
       "array([[89,  8],\n",
       "       [24, 41],\n",
       "       [36, 92],\n",
       "       [40, 18],\n",
       "       [17, 74],\n",
       "       [98, 86],\n",
       "       [ 2, 78],\n",
       "       [ 1,  4],\n",
       "       [37, 84],\n",
       "       [27, 76]])"
      ]
     },
     "execution_count": 5,
     "metadata": {},
     "output_type": "execute_result"
    }
   ],
   "source": [
    "data"
   ]
  },
  {
   "cell_type": "code",
   "execution_count": 22,
   "metadata": {
    "collapsed": true
   },
   "outputs": [],
   "source": [
    "scaler_model = MinMaxScaler()"
   ]
  },
  {
   "cell_type": "code",
   "execution_count": 23,
   "metadata": {},
   "outputs": [
    {
     "data": {
      "text/plain": [
       "MinMaxScaler(copy=True, feature_range=(0, 1))"
      ]
     },
     "execution_count": 23,
     "metadata": {},
     "output_type": "execute_result"
    }
   ],
   "source": [
    "scaler_model.fit(data)"
   ]
  },
  {
   "cell_type": "code",
   "execution_count": 24,
   "metadata": {},
   "outputs": [
    {
     "data": {
      "text/plain": [
       "array([[0.43877551, 0.03191489, 0.49484536, 0.34693878],\n",
       "       [0.64285714, 0.62765957, 0.86597938, 0.14285714],\n",
       "       [0.5       , 0.08510638, 0.27835052, 0.55102041],\n",
       "       [0.33673469, 0.18085106, 0.67010309, 0.02040816],\n",
       "       [0.84693878, 1.        , 0.3814433 , 0.93877551],\n",
       "       [0.95918367, 0.69148936, 0.06185567, 0.08163265],\n",
       "       [0.        , 0.26595745, 0.74226804, 0.09183673],\n",
       "       [0.91836735, 0.86170213, 0.55670103, 0.        ],\n",
       "       [0.85714286, 0.36170213, 0.22680412, 0.24489796],\n",
       "       [0.39795918, 0.81914894, 0.73195876, 0.62244898],\n",
       "       [0.20408163, 0.24468085, 0.36082474, 0.8877551 ],\n",
       "       [0.76530612, 0.88297872, 0.25773196, 0.23469388],\n",
       "       [0.62244898, 0.23404255, 0.98969072, 0.51020408],\n",
       "       [0.40816327, 0.12765957, 0.54639175, 0.19387755],\n",
       "       [0.98979592, 0.31914894, 0.03092784, 0.96938776],\n",
       "       [0.57142857, 0.70212766, 0.62886598, 0.07142857],\n",
       "       [0.29591837, 0.23404255, 0.04123711, 0.85714286],\n",
       "       [0.3877551 , 0.08510638, 0.29896907, 0.13265306],\n",
       "       [0.52040816, 0.14893617, 0.18556701, 0.68367347],\n",
       "       [0.92857143, 0.96808511, 1.        , 0.6122449 ],\n",
       "       [0.8877551 , 0.37234043, 0.35051546, 0.71428571],\n",
       "       [0.81632653, 0.        , 0.5257732 , 0.78571429],\n",
       "       [0.36734694, 0.57446809, 0.29896907, 0.44897959],\n",
       "       [0.62244898, 0.41489362, 0.79381443, 0.29591837],\n",
       "       [0.55102041, 0.4787234 , 0.22680412, 0.71428571],\n",
       "       [0.01020408, 0.65957447, 0.06185567, 0.21428571],\n",
       "       [0.86734694, 0.85106383, 0.        , 0.32653061],\n",
       "       [0.79591837, 0.05319149, 0.98969072, 0.55102041],\n",
       "       [0.67346939, 0.23404255, 0.3814433 , 0.40816327],\n",
       "       [0.7755102 , 0.26595745, 0.31958763, 0.45918367],\n",
       "       [0.43877551, 0.38297872, 0.6185567 , 0.47959184],\n",
       "       [0.63265306, 0.11702128, 0.56701031, 0.53061224],\n",
       "       [0.89795918, 0.10638298, 0.84536082, 0.45918367],\n",
       "       [0.26530612, 0.82978723, 0.28865979, 0.98979592],\n",
       "       [0.20408163, 0.67021277, 0.7628866 , 0.70408163],\n",
       "       [0.94897959, 0.96808511, 0.96907216, 0.74489796],\n",
       "       [0.64285714, 0.62765957, 0.63917526, 0.30612245],\n",
       "       [0.47959184, 0.68085106, 0.7628866 , 0.51020408],\n",
       "       [0.92857143, 0.06382979, 0.95876289, 0.2244898 ],\n",
       "       [0.12244898, 0.60638298, 0.46391753, 0.19387755],\n",
       "       [0.03061224, 0.43617021, 0.34020619, 0.59183673],\n",
       "       [0.06122449, 0.86170213, 0.88659794, 0.59183673],\n",
       "       [0.69387755, 0.44680851, 0.90721649, 0.15306122],\n",
       "       [0.80612245, 0.63829787, 0.3814433 , 0.17346939],\n",
       "       [0.60204082, 0.86170213, 0.80412371, 0.05102041],\n",
       "       [0.24489796, 0.23404255, 0.57731959, 0.74489796],\n",
       "       [0.34693878, 0.5106383 , 0.73195876, 1.        ],\n",
       "       [1.        , 0.14893617, 0.48453608, 0.6122449 ],\n",
       "       [0.33673469, 0.5       , 0.8556701 , 0.2244898 ],\n",
       "       [0.84693878, 0.35106383, 0.81443299, 0.52040816]])"
      ]
     },
     "execution_count": 24,
     "metadata": {},
     "output_type": "execute_result"
    }
   ],
   "source": [
    "scaler_model.transform(data)"
   ]
  },
  {
   "cell_type": "code",
   "execution_count": null,
   "metadata": {
    "collapsed": true
   },
   "outputs": [],
   "source": [
    "# In one step\n",
    "result = scaler_model.fit_transform(data)"
   ]
  },
  {
   "cell_type": "code",
   "execution_count": null,
   "metadata": {
    "collapsed": true
   },
   "outputs": [],
   "source": [
    "result"
   ]
  },
  {
   "cell_type": "code",
   "execution_count": null,
   "metadata": {
    "collapsed": true
   },
   "outputs": [],
   "source": [
    "import pandas as pd"
   ]
  },
  {
   "cell_type": "code",
   "execution_count": null,
   "metadata": {
    "collapsed": true
   },
   "outputs": [],
   "source": [
    "data = pd.DataFrame(data=np.random.randint(0,101,(50,4)),columns=['f1','f2','f3','label'])"
   ]
  },
  {
   "cell_type": "code",
   "execution_count": null,
   "metadata": {
    "collapsed": true
   },
   "outputs": [],
   "source": [
    "data.head()"
   ]
  },
  {
   "cell_type": "code",
   "execution_count": null,
   "metadata": {
    "collapsed": true
   },
   "outputs": [],
   "source": [
    "x = data[['f1','f2','f3']] # Alternatively x = data.drop('label',axis=1)\n",
    "y = data['label']"
   ]
  },
  {
   "cell_type": "code",
   "execution_count": null,
   "metadata": {
    "collapsed": true
   },
   "outputs": [],
   "source": [
    "from sklearn.model_selection import train_test_split"
   ]
  },
  {
   "cell_type": "code",
   "execution_count": null,
   "metadata": {
    "collapsed": true
   },
   "outputs": [],
   "source": [
    "X_train, X_test, y_train, y_test = train_test_split(x,y,test_size=0.3,random_state=101)"
   ]
  },
  {
   "cell_type": "code",
   "execution_count": null,
   "metadata": {
    "collapsed": true
   },
   "outputs": [],
   "source": [
    "X_train.shape"
   ]
  },
  {
   "cell_type": "code",
   "execution_count": null,
   "metadata": {
    "collapsed": true
   },
   "outputs": [],
   "source": [
    "X_test.shape"
   ]
  },
  {
   "cell_type": "code",
   "execution_count": null,
   "metadata": {
    "collapsed": true
   },
   "outputs": [],
   "source": [
    "y_train.shape"
   ]
  },
  {
   "cell_type": "code",
   "execution_count": null,
   "metadata": {
    "collapsed": true
   },
   "outputs": [],
   "source": [
    "y_test.shape"
   ]
  },
  {
   "cell_type": "markdown",
   "metadata": {},
   "source": [
    "## Great Job!"
   ]
  }
 ],
 "metadata": {
  "kernelspec": {
   "display_name": "Python 3",
   "language": "python",
   "name": "python3"
  },
  "language_info": {
   "codemirror_mode": {
    "name": "ipython",
    "version": 3
   },
   "file_extension": ".py",
   "mimetype": "text/x-python",
   "name": "python",
   "nbconvert_exporter": "python",
   "pygments_lexer": "ipython3",
   "version": "3.5.6"
  }
 },
 "nbformat": 4,
 "nbformat_minor": 2
}
